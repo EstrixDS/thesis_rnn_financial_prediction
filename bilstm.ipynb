{
 "cells": [
  {
   "cell_type": "code",
   "execution_count": null,
   "metadata": {},
   "outputs": [],
   "source": [
    "import utils\n",
    "import numpy as np\n",
    "from sklearn.model_selection import train_test_split\n",
    "from keras.models import Sequential\n",
    "from keras.layers import Dense, LSTM, Bidirectional\n",
    "from keras.callbacks import EarlyStopping\n",
    "import matplotlib.pyplot as plt"
   ]
  },
  {
   "cell_type": "code",
   "execution_count": null,
   "metadata": {},
   "outputs": [],
   "source": [
    "EPOCHS = 10000\n",
    "BATCH_SIZE = 32\n",
    "trading_days = 20\n",
    "model_type = \"BI-LSTM\""
   ]
  },
  {
   "cell_type": "code",
   "execution_count": null,
   "metadata": {},
   "outputs": [],
   "source": [
    "raw_df = utils.download()\n",
    "df, x = utils.process(df=raw_df, trading_days=trading_days)\n",
    "utils.test(x=x)\n",
    "x, y = utils.convert2matrix(data_arr=x, look_back=20)\n",
    "X_train, X_test, y_train, y_test = train_test_split(x, y, test_size=0.2, shuffle=False)\n",
    "X_train = np.expand_dims(X_train, 2)\n",
    "x_test = np.expand_dims(X_test, 2)\n",
    "print(X_train.shape, y_train.shape, x_test.shape, y_test.shape)"
   ]
  },
  {
   "cell_type": "code",
   "execution_count": null,
   "metadata": {},
   "outputs": [],
   "source": [
    "model = Sequential()\n",
    "# Input layer\n",
    "model.add(\n",
    "    Bidirectional(LSTM(10, input_shape=(X_train.shape[1], 1), return_sequences=True))\n",
    ")\n",
    "# Hidden layer\n",
    "backward_layer = LSTM(10,activation='relu',return_sequences=True, go_backwards=True)\n",
    "model.add(Bidirectional(LSTM(10,return_sequences=True),backward_layer=backward_layer))\n",
    "model.add(Dense(1))\n",
    "# Compile model\n",
    "model.compile(optimizer=\"adam\", loss=\"mse\",metrics=['mse'])"
   ]
  },
  {
   "cell_type": "code",
   "execution_count": null,
   "metadata": {},
   "outputs": [],
   "source": [
    "early_stop = EarlyStopping(monitor=\"val_loss\", patience=50)\n",
    "history = model.fit(\n",
    "    X_train,\n",
    "    y_train,\n",
    "    epochs=1200,\n",
    "    batch_size=32,\n",
    "    validation_data=(x_test, y_test),\n",
    "    validation_split=0.2,\n",
    "    verbose=1,\n",
    "    shuffle=False,\n",
    "    callbacks=[early_stop],\n",
    ")\n",
    "\n",
    "mse = history.history[\"mse\"]\n",
    "val_mse = history.history[\"val_mse\"]\n",
    "loss = history.history[\"loss\"]\n",
    "val_loss = history.history[\"val_loss\"]\n"
   ]
  },
  {
   "cell_type": "code",
   "execution_count": null,
   "metadata": {},
   "outputs": [],
   "source": [
    "epochs = range(len(mse))\n",
    "n_epochs = len(mse)\n",
    "pred = model.predict(x_test)\n",
    "prediction = utils.compute_prediction_frame(y_labels=y_test,predicted=pred)"
   ]
  },
  {
   "cell_type": "code",
   "execution_count": null,
   "metadata": {},
   "outputs": [],
   "source": [
    "utils.scatterplotRegression(df=prediction, model_type=model_type, EPOCHS=n_epochs,BATCH_SIZE=BATCH_SIZE)"
   ]
  },
  {
   "cell_type": "code",
   "execution_count": null,
   "metadata": {},
   "outputs": [],
   "source": [
    "utils.error_evaluation(epochs,mse,val_mse,loss,val_loss)"
   ]
  }
 ],
 "metadata": {
  "language_info": {
   "name": "python"
  },
  "orig_nbformat": 4
 },
 "nbformat": 4,
 "nbformat_minor": 2
}

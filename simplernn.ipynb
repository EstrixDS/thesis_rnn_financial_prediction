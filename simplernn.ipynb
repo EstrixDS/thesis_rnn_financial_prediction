{
 "cells": [
  {
   "cell_type": "code",
   "execution_count": null,
   "metadata": {},
   "outputs": [],
   "source": [
    "import utils\n",
    "import numpy as np\n",
    "from sklearn.model_selection import train_test_split\n",
    "from keras.models import Sequential\n",
    "from keras.layers import Dense, SimpleRNN\n",
    "from keras.callbacks import EarlyStopping\n",
    "from sklearn.preprocessing import MinMaxScaler\n",
    "import time"
   ]
  },
  {
   "cell_type": "code",
   "execution_count": null,
   "metadata": {},
   "outputs": [],
   "source": [
    "EPOCHS = 1200\n",
    "BATCH_SIZE = 32\n",
    "trading_days = 20\n",
    "model_type = \"SIMPLERNN\""
   ]
  },
  {
   "cell_type": "code",
   "execution_count": null,
   "metadata": {},
   "outputs": [],
   "source": [
    "start = time.time()\n",
    "raw_df = utils.download()\n",
    "x = utils.process(df=raw_df, trading_days=trading_days)\n",
    "utils.test(x=x)\n",
    "x = np.expand_dims(x, 1)\n",
    "# normalize the dataset\n",
    "scaler = MinMaxScaler()\n",
    "x = scaler.fit_transform(x)\n",
    "x, y = utils.convert2matrix(data_arr=x, look_back=1)\n",
    "X_train, x_test, y_train, y_test = train_test_split(x, y, test_size=0.2, shuffle=False)\n",
    "end = time.time()\n",
    "print(\"Datenmodellierung: Zeit gebraucht: \", end-start)\n",
    "print(X_train.shape, y_train.shape, x_test.shape, y_test.shape)"
   ]
  },
  {
   "cell_type": "code",
   "execution_count": null,
   "metadata": {},
   "outputs": [],
   "source": [
    "start = time.time()\n",
    "model = Sequential()\n",
    "# Input layer\n",
    "model.add(SimpleRNN(10))\n",
    "#Output Layer\n",
    "model.add(Dense(units = 1))\n",
    "model.compile(optimizer=\"adam\",loss=\"mse\",metrics=[\"mse\",\"mae\"])"
   ]
  },
  {
   "cell_type": "code",
   "execution_count": null,
   "metadata": {},
   "outputs": [],
   "source": [
    "early_stop = EarlyStopping(monitor=\"val_loss\", patience=100)\n",
    "history = model.fit(\n",
    "    X_train,\n",
    "    y_train,\n",
    "    epochs=EPOCHS,\n",
    "    batch_size=BATCH_SIZE,\n",
    "    validation_data=(x_test, y_test),\n",
    "    validation_split=0.2,\n",
    "    verbose=1,\n",
    "    shuffle=False,\n",
    "    callbacks=[early_stop],\n",
    ")\n",
    "mse = history.history[\"mse\"]\n",
    "val_mse = history.history[\"val_mse\"]\n",
    "loss = history.history[\"loss\"]\n",
    "val_loss = history.history[\"val_loss\"]\n",
    "mae = history.history[\"mae\"]\n"
   ]
  },
  {
   "cell_type": "code",
   "execution_count": null,
   "metadata": {},
   "outputs": [],
   "source": [
    "epochs = range(len(mse))\n",
    "n_epochs = len(mse)\n",
    "pred = model.predict(x_test)\n",
    "pred = np.squeeze(pred,1)\n",
    "y_test = np.squeeze(y_test,1)\n",
    "prediction = utils.compute_prediction_frame(y_labels=y_test,predicted=pred)"
   ]
  },
  {
   "cell_type": "code",
   "execution_count": null,
   "metadata": {},
   "outputs": [],
   "source": [
    "utils.scatterplotRegression(df=prediction, model_type=model_type, EPOCHS=n_epochs,BATCH_SIZE=BATCH_SIZE)\n",
    "utils.error_evaluation(epochs,mse,val_mse,loss,val_loss)\n",
    "end = time.time()\n",
    "print(\"Modelling braucht: \", end-start)\n",
    "utils.print_error(y_train=y_train,y_test=y_test,train_predict=model.predict(X_train),test_predict=pred)"
   ]
  },
  {
   "cell_type": "code",
   "execution_count": null,
   "metadata": {},
   "outputs": [],
   "source": [
    "from sklearn.metrics import mean_absolute_error\n",
    "\n",
    "print(mean_absolute_error(y_true=y_test,y_pred=pred))"
   ]
  },
  {
   "cell_type": "code",
   "execution_count": null,
   "metadata": {},
   "outputs": [],
   "source": [
    "model.summary()"
   ]
  }
 ],
 "metadata": {
  "interpreter": {
   "hash": "8d5f1dc5bd316b5bc19c4d501279395ca561d4209041eaeaf3764eb42cae8cc5"
  },
  "kernelspec": {
   "display_name": "Python 3.9.10 64-bit",
   "language": "python",
   "name": "python3"
  },
  "language_info": {
   "codemirror_mode": {
    "name": "ipython",
    "version": 3
   },
   "file_extension": ".py",
   "mimetype": "text/x-python",
   "name": "python",
   "nbconvert_exporter": "python",
   "pygments_lexer": "ipython3",
   "version": "3.9.10"
  },
  "orig_nbformat": 4
 },
 "nbformat": 4,
 "nbformat_minor": 2
}
